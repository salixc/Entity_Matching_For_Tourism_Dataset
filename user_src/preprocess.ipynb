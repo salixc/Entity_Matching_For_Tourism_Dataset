{
 "cells": [
  {
   "cell_type": "code",
   "execution_count": 3,
   "metadata": {},
   "outputs": [],
   "source": [
    "import json\n",
    "import zhconv\n",
    "dataName = \"Mafengwo\"\n",
    "\n",
    "def combineInfo(dict, attrList):\n",
    "    rnt = []\n",
    "    # 把感兴趣的属性提取出来\n",
    "    for attr in attrList:\n",
    "        rnt = rnt + dict.get(attr, [[\"\", 0]])\n",
    "    # 按照位置排序\n",
    "    rnt = sorted(rnt, key=lambda x:x[1])\n",
    "    # 提取文本\n",
    "    rnt = [x[0] for x in rnt]\n",
    "    # 合并文本\n",
    "    return \"\".join(rnt)"
   ]
  },
  {
   "cell_type": "code",
   "execution_count": 4,
   "metadata": {},
   "outputs": [],
   "source": [
    "with open(\"../user_data/%s.json\"%dataName, \"r\", encoding=\"utf-8\") as f:\n",
    "    dataRough  = json.load(f)\n",
    "with open(\"../user_data/%s_addr_result.json\"%dataName, \"r\", encoding=\"utf-8\") as f:\n",
    "    dataDetail = json.load(f)\n",
    "\n",
    "result = []\n",
    "for i in range(len(dataRough)):\n",
    "    d1 = dataRough[i]; d2 = dataDetail[i]\n",
    "    tmp = {\"id\": dataName[0] + str(i)}\n",
    "\n",
    "    # 粗粒度数据提取\n",
    "    if d1[\"行政区\"] is None or d1[\"行政区\"] == \"\" or d1[\"行政区\"] == \"nan\": tmp[\"行政区\"] = \"U\"\n",
    "    else: tmp[\"行政区\"] = zhconv.convert(d1[\"行政区\"], \"zh-hans\")\n",
    "    if d1[\"Location\"] == \"nan\":\n",
    "        tmp[\"Location\"] = [None, None]\n",
    "    else:\n",
    "        lst = d1[\"Location\"].split(\",\")\n",
    "        tmp[\"Location\"] = [float(lst[0]), float(lst[1])]\n",
    "    tmp[\"Name\"] = d1[\"Name\"]\n",
    "    tmp[\"Address\"] = d1[\"Address\"]\n",
    "\n",
    "    # 细粒度数据提取\n",
    "    # 1. 处理大区域\n",
    "    tmp[\"District\"] = combineInfo(d2, [\"district\", \"town\", \"community\"])\n",
    "    # 2. 处理道路信息\n",
    "    tmp[\"RoadInfo\"] = combineInfo(d2, [\"road\", \"roadno\"])\n",
    "    # 3. 处理兴趣点信息\n",
    "    tmp[\"Poi\"] = combineInfo(d2, [\"poi\", \"subpoi\"])\n",
    "    # 4. 处理楼栋、房号信息\n",
    "    tmp[\"RoomInfo\"] = combineInfo(d2, [\"houseno\", \"cellno\", \"floorno\", \"roomno\"])\n",
    "\n",
    "    result.append(tmp)\n",
    "\n",
    "with open(\"../user_data/%s_addr.json\"%dataName, \"w\", encoding=\"utf-8\") as f:\n",
    "    json.dump(result, f, ensure_ascii=False, indent=2)\n"
   ]
  }
 ],
 "metadata": {
  "kernelspec": {
   "display_name": "Python 3.10.12 ('base': conda)",
   "language": "python",
   "name": "python3"
  },
  "language_info": {
   "codemirror_mode": {
    "name": "ipython",
    "version": 3
   },
   "file_extension": ".py",
   "mimetype": "text/x-python",
   "name": "python",
   "nbconvert_exporter": "python",
   "pygments_lexer": "ipython3",
   "version": "3.10.12"
  },
  "orig_nbformat": 4,
  "vscode": {
   "interpreter": {
    "hash": "3e8f95b9510f32b9cde8cca11ac739448e236da4e8c1197f2e248ca6ab198849"
   }
  }
 },
 "nbformat": 4,
 "nbformat_minor": 2
}
