{
 "cells": [
  {
   "cell_type": "code",
   "execution_count": 3,
   "metadata": {},
   "outputs": [],
   "source": [
    "import json\n",
    "import zhconv\n",
    "dataName = \"Mafengwo\"\n",
    "\n",
    "def combineInfo(dict, attrList):\n",
    "    rnt = []\n",
    "    # Extract the attributes of interest\n",
    "    for attr in attrList:\n",
    "        rnt = rnt + dict.get(attr, [[\"\", 0]])\n",
    "    # Sort by position\n",
    "    rnt = sorted(rnt, key=lambda x:x[1])\n",
    "    # Extract text\n",
    "    rnt = [x[0] for x in rnt]\n",
    "    # Join text\n",
    "    return \"\".join(rnt)"
   ]
  },
  {
   "cell_type": "code",
   "execution_count": 4,
   "metadata": {},
   "outputs": [],
   "source": [
    "with open(\"../user_data/%s.json\"%dataName, \"r\", encoding=\"utf-8\") as f:\n",
    "    dataRough  = json.load(f)\n",
    "with open(\"../user_data/%s_addr_result.json\"%dataName, \"r\", encoding=\"utf-8\") as f:\n",
    "    dataDetail = json.load(f)\n",
    "\n",
    "result = []\n",
    "for i in range(len(dataRough)):\n",
    "    d1 = dataRough[i]; d2 = dataDetail[i]\n",
    "    tmp = {\"id\": dataName[0] + str(i)}\n",
    "\n",
    "    # Coarse grained data extraction\n",
    "    if d1[\"行政区\"] is None or d1[\"行政区\"] == \"\" or d1[\"行政区\"] == \"nan\": tmp[\"行政区\"] = \"U\"\n",
    "    else: tmp[\"行政区\"] = zhconv.convert(d1[\"行政区\"], \"zh-hans\")\n",
    "    if d1[\"Location\"] == \"nan\":\n",
    "        tmp[\"Location\"] = [None, None]\n",
    "    else:\n",
    "        lst = d1[\"Location\"].split(\",\")\n",
    "        tmp[\"Location\"] = [float(lst[0]), float(lst[1])]\n",
    "    tmp[\"Name\"] = d1[\"Name\"]\n",
    "    tmp[\"Address\"] = d1[\"Address\"]\n",
    "\n",
    "    # Fine grained data extraction\n",
    "    tmp[\"District\"] = combineInfo(d2, [\"district\", \"town\", \"community\"])\n",
    "    tmp[\"RoadInfo\"] = combineInfo(d2, [\"road\", \"roadno\"])\n",
    "    tmp[\"Poi\"] = combineInfo(d2, [\"poi\", \"subpoi\"])\n",
    "    tmp[\"RoomInfo\"] = combineInfo(d2, [\"houseno\", \"cellno\", \"floorno\", \"roomno\"])\n",
    "\n",
    "    result.append(tmp)\n",
    "\n",
    "with open(\"../user_data/%s_addr.json\"%dataName, \"w\", encoding=\"utf-8\") as f:\n",
    "    json.dump(result, f, ensure_ascii=False, indent=2)\n"
   ]
  }
 ],
 "metadata": {
  "kernelspec": {
   "display_name": "Python 3.9.1 64-bit",
   "language": "python",
   "name": "python3"
  },
  "language_info": {
   "codemirror_mode": {
    "name": "ipython",
    "version": 3
   },
   "file_extension": ".py",
   "mimetype": "text/x-python",
   "name": "python",
   "nbconvert_exporter": "python",
   "pygments_lexer": "ipython3",
   "version": "3.9.1"
  },
  "orig_nbformat": 4,
  "vscode": {
   "interpreter": {
    "hash": "43c3b701dc5b1cd25cf377723fd1aef5494dfb9feadd0b34c99abc873f0f2c4d"
   }
  }
 },
 "nbformat": 4,
 "nbformat_minor": 2
}
