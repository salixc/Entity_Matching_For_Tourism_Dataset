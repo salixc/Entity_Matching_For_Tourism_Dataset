{
 "cells": [
  {
   "cell_type": "code",
   "execution_count": 4,
   "metadata": {},
   "outputs": [],
   "source": [
    "import json\n",
    "import pandas as pd\n",
    "from sentence_transformers.util import cos_sim  \n",
    "from sentence_transformers import SentenceTransformer as SBert\n",
    "from scipy.spatial.distance import cosine\n",
    "from numpy import sqrt\n",
    "import numpy as np\n",
    "from geopy.distance import geodesic\n",
    "from tqdm import trange\n",
    "model = SBert('paraphrase-multilingual-MiniLM-L12-v2')\n",
    "cols = [\"id\", \"Location\", \"Name\", \"Address\", \"District\", \"RoadInfo\", \"Poi\", \"RoomInfo\", \"label\"]\n",
    "\n",
    "with open(\"../train_data/positive.json\", \"r\", encoding=\"utf-8\") as f:\n",
    "    positive = json.load(f)\n",
    "with open(\"../train_data/negative.json\", \"r\", encoding=\"utf-8\") as f:\n",
    "    negative = json.load(f)\n",
    "with open(\"../train_src/temp/pre_dict.json\", \"r\", encoding=\"utf-8\") as f:\n",
    "    eDict = json.load(f)"
   ]
  },
  {
   "cell_type": "code",
   "execution_count": 5,
   "metadata": {},
   "outputs": [],
   "source": [
    "def calcDist(pos1, pos2):\n",
    "    if pos1[0] is None or pos2[0] is None:\n",
    "        return None\n",
    "    return geodesic((pos1[1], pos1[0]), (pos2[1], pos2[0])).kilometers\n",
    "\n",
    "def calcSimi(lst1, lst2):\n",
    "    lstCosine = []\n",
    "    for i in range(len(lst1)):\n",
    "        if lst1[i] == \"\" or lst2[i] == \"\":\n",
    "            lstCosine.append(None)\n",
    "        else:\n",
    "            e1 = eDict[lst1[i]]\n",
    "            e2 = eDict[lst2[i]]\n",
    "            sim = 1 - cosine(e1, e2)\n",
    "            lstCosine.append(sim)\n",
    "    return lstCosine\n",
    "\n",
    "def embData(data):\n",
    "    dfLst = []\n",
    "    for d in data:\n",
    "        lst = [d[\"id\"]]\n",
    "        lst.append(calcDist(d[\"Location\"][0], d[\"Location\"][1]))\n",
    "        lst1 = [d[attr][0] for attr in cols[2:8]]\n",
    "        lst2 = [d[attr][1] for attr in cols[2:8]]\n",
    "        lst = lst + calcSimi(lst1, lst2) + [d[\"label\"]]\n",
    "        dfLst.append(lst)\n",
    "    df = pd.DataFrame(dfLst, columns=cols)\n",
    "    df = df.fillna(value=np.nan)\n",
    "    return df"
   ]
  },
  {
   "cell_type": "code",
   "execution_count": 6,
   "metadata": {},
   "outputs": [],
   "source": [
    "dfPos = embData(positive)\n",
    "dfNeg = embData(negative)\n",
    "dfPos.to_csv(\"../train_data/positive.csv\")\n",
    "dfNeg.to_csv(\"../train_data/negative.csv\")"
   ]
  }
 ],
 "metadata": {
  "kernelspec": {
   "display_name": "Python 3.10.12 ('base': conda)",
   "language": "python",
   "name": "python3"
  },
  "language_info": {
   "codemirror_mode": {
    "name": "ipython",
    "version": 3
   },
   "file_extension": ".py",
   "mimetype": "text/x-python",
   "name": "python",
   "nbconvert_exporter": "python",
   "pygments_lexer": "ipython3",
   "version": "3.10.12"
  },
  "orig_nbformat": 4,
  "vscode": {
   "interpreter": {
    "hash": "3e8f95b9510f32b9cde8cca11ac739448e236da4e8c1197f2e248ca6ab198849"
   }
  }
 },
 "nbformat": 4,
 "nbformat_minor": 2
}
