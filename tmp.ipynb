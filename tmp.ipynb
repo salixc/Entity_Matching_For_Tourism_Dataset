{
 "cells": [
  {
   "cell_type": "code",
   "execution_count": 31,
   "metadata": {},
   "outputs": [
    {
     "name": "stdout",
     "output_type": "stream",
     "text": [
      "591\n"
     ]
    }
   ],
   "source": [
    "import json\n",
    "import random\n",
    "\n",
    "name = \"Tripadvisor_addr_result\"\n",
    "\n",
    "with open(\"./user_data/%s.json\"%name, \"r\", encoding=\"utf-8\") as f:\n",
    "    data = json.load(f)\n",
    "# random.shuffle(data)\n",
    "print(len(data))"
   ]
  },
  {
   "cell_type": "code",
   "execution_count": 32,
   "metadata": {},
   "outputs": [],
   "source": [
    "data = data[:150]\n",
    "with open(\"./user_data/%s_.json\"%name, \"w\", encoding=\"utf-8\") as f:\n",
    "    json.dump(data, f, ensure_ascii=False, indent=2)"
   ]
  },
  {
   "cell_type": "code",
   "execution_count": 22,
   "metadata": {},
   "outputs": [
    {
     "name": "stdout",
     "output_type": "stream",
     "text": [
      "4\n"
     ]
    }
   ],
   "source": [
    "with open(\"./train_data/positive.json\", \"r\", encoding=\"utf-8\") as f:\n",
    "    data = json.load(f)\n",
    "result = []\n",
    "for d in data:\n",
    "    id = d[\"id\"].split(\"-\")\n",
    "    id1 = int(id[0][1:])\n",
    "    id2 = int(id[1][1:])\n",
    "    if id1 >= 150 or id2 >= 150: continue\n",
    "    result.append(d)\n",
    "print(len(result))"
   ]
  },
  {
   "cell_type": "code",
   "execution_count": 1,
   "metadata": {},
   "outputs": [
    {
     "name": "stdout",
     "output_type": "stream",
     "text": [
      "11111\n"
     ]
    }
   ],
   "source": [
    "import pandas as pd\n",
    "\n",
    "df = pd.read_csv(\"./user_data/data.csv\", encoding=\"utf-8\")\n",
    "df = df.values\n",
    "print(11111)"
   ]
  }
 ],
 "metadata": {
  "kernelspec": {
   "display_name": "Python 3.9.1 64-bit",
   "language": "python",
   "name": "python3"
  },
  "language_info": {
   "codemirror_mode": {
    "name": "ipython",
    "version": 3
   },
   "file_extension": ".py",
   "mimetype": "text/x-python",
   "name": "python",
   "nbconvert_exporter": "python",
   "pygments_lexer": "ipython3",
   "version": "3.9.1"
  },
  "orig_nbformat": 4,
  "vscode": {
   "interpreter": {
    "hash": "43c3b701dc5b1cd25cf377723fd1aef5494dfb9feadd0b34c99abc873f0f2c4d"
   }
  }
 },
 "nbformat": 4,
 "nbformat_minor": 2
}
