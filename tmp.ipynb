{
 "cells": [
  {
   "cell_type": "code",
   "execution_count": 9,
   "metadata": {},
   "outputs": [
    {
     "name": "stdout",
     "output_type": "stream",
     "text": [
      "48428\n"
     ]
    }
   ],
   "source": [
    "import json\n",
    "import random\n",
    "\n",
    "name = \"result\"\n",
    "\n",
    "with open(\"./%s.json\"%name, \"r\", encoding=\"utf-8\") as f:\n",
    "    data = json.load(f)\n",
    "# random.shuffle(data)\n",
    "print(len(data))"
   ]
  },
  {
   "cell_type": "code",
   "execution_count": 32,
   "metadata": {},
   "outputs": [],
   "source": [
    "data = data[:150]\n",
    "with open(\"./user_data/%s_.json\"%name, \"w\", encoding=\"utf-8\") as f:\n",
    "    json.dump(data, f, ensure_ascii=False, indent=2)"
   ]
  },
  {
   "cell_type": "code",
   "execution_count": 14,
   "metadata": {},
   "outputs": [
    {
     "name": "stdout",
     "output_type": "stream",
     "text": [
      "9124\n"
     ]
    }
   ],
   "source": [
    "with open(\"./result.json\", \"r\", encoding=\"utf-8\") as f:\n",
    "    data = json.load(f)\n",
    "result = []\n",
    "for d in data:\n",
    "    id = d[\"id\"].split(\"-\")\n",
    "    id1 = int(id[0][1:])\n",
    "    id2 = int(id[1][1:])\n",
    "    # print(id1, id2)\n",
    "    # break\n",
    "    if id1 >= 150 or id2 >= 150: continue\n",
    "    result.append(d)\n",
    "print(len(result))\n",
    "with open(\"./result_.json\", \"w\", encoding=\"utf-8\") as f:\n",
    "    json.dump(result, f, ensure_ascii=False, indent=2)"
   ]
  },
  {
   "cell_type": "code",
   "execution_count": 8,
   "metadata": {},
   "outputs": [],
   "source": [
    "import pandas as pd\n",
    "\n",
    "df = pd.read_csv(\"./result_labeling.csv\", encoding=\"utf-8\")\n",
    "data = df.values\n",
    "result = []\n",
    "for d in data:\n",
    "    id = d[1].split(\"-\")\n",
    "    id1 = int(id[0][1:])\n",
    "    id2 = int(id[1][1:])\n",
    "    if id1 >= 150 or id2 >= 150: continue\n",
    "    result.append(d[1:])\n",
    "dff = pd.DataFrame(result, columns=df.columns[1:])\n",
    "dff.to_csv(\"./result_labeling_.csv\")"
   ]
  }
 ],
 "metadata": {
  "kernelspec": {
   "display_name": "Python 3.9.1 64-bit",
   "language": "python",
   "name": "python3"
  },
  "language_info": {
   "codemirror_mode": {
    "name": "ipython",
    "version": 3
   },
   "file_extension": ".py",
   "mimetype": "text/x-python",
   "name": "python",
   "nbconvert_exporter": "python",
   "pygments_lexer": "ipython3",
   "version": "3.9.1"
  },
  "orig_nbformat": 4,
  "vscode": {
   "interpreter": {
    "hash": "43c3b701dc5b1cd25cf377723fd1aef5494dfb9feadd0b34c99abc873f0f2c4d"
   }
  }
 },
 "nbformat": 4,
 "nbformat_minor": 2
}
