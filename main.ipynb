{
 "cells": [
  {
   "cell_type": "code",
   "execution_count": 1,
   "metadata": {},
   "outputs": [],
   "source": [
    "import pandas as pd\n",
    "from sklearn.ensemble import HistGradientBoostingClassifier as HGBC\n",
    "from xgboost import XGBClassifier\n",
    "from sklearn.model_selection import train_test_split\n",
    "import random\n",
    "\n",
    "cols = [\"id\", \"Location\", \"Name\", \"Address\", \"District\", \"RoadInfo\", \"Poi\", \"RoomInfo\", \"label\"]\n",
    "\n",
    "dfPos = pd.read_csv(\"./train_data/positive.csv\")\n",
    "dfNeg = pd.read_csv(\"./train_data/negative.csv\")\n",
    "\n",
    "df = pd.concat([dfPos, dfNeg], axis=0)\n",
    "X = df[cols[:-1]].values\n",
    "y = df[\"label\"].values\n",
    "X_train, X_test, y_train, y_test = train_test_split(X, y, test_size=0.25, random_state=123)\n",
    "testId = [x[0] for x in X_test]\n",
    "X_train = [x[1:] for x in X_train]\n",
    "X_test = [x[1:] for x in X_test]"
   ]
  },
  {
   "cell_type": "code",
   "execution_count": 25,
   "metadata": {},
   "outputs": [
    {
     "name": "stdout",
     "output_type": "stream",
     "text": [
      "0.9666666666666667\n",
      "特征重要性： [0.16519575 0.67253864 0.07393469 0.03268984 0.05564112 0.\n",
      " 0.        ]\n"
     ]
    }
   ],
   "source": [
    "clf = XGBClassifier()\n",
    "clf = clf.fit(X_train, y_train)\n",
    "result = clf.score(X_test, y_test)\n",
    "pred = clf.predict(X_test)\n",
    "print(result)\n",
    "feature_importance = clf.feature_importances_\n",
    "print(\"特征重要性：\", feature_importance)\n",
    "# print(clf.get_booster().get_score(importance_type= \"gain\"))\n",
    "# predictions_proba = clf.predict_proba(X_test)\n",
    "# for lst in predictions_proba:\n",
    "#     print(\"%.3f, %.3f\"%(lst[0], lst[1]))"
   ]
  },
  {
   "cell_type": "code",
   "execution_count": 4,
   "metadata": {},
   "outputs": [],
   "source": [
    "# 输出测试数据预测结果\n",
    "\n",
    "import json\n",
    "dataName1 = \"Ctrip\"\n",
    "dataName2 = \"Mafengwo\"\n",
    "with open(\"./train_data/%s_addr.json\"%dataName1, \"r\", encoding=\"utf-8\") as f:\n",
    "    data1 = json.load(f)\n",
    "with open(\"./train_data/%s_addr.json\"%dataName2, \"r\", encoding=\"utf-8\") as f:\n",
    "    data2 = json.load(f)\n",
    "\n",
    "result = []\n",
    "cnt = -1\n",
    "for i in testId:\n",
    "    id = i.split(\"-\")\n",
    "    id1, id2 = int(id[0][1:]), int(id[1][1:])\n",
    "    d1, d2 = data1[id1], data2[id2]\n",
    "    cnt += 1\n",
    "    lst1, lst2 = [cnt, \"C\"+str(id1)], [cnt, \"M\"+str(id2)]\n",
    "    for attr in cols[1:-1]:\n",
    "        lst1.append(d1[attr])\n",
    "        lst2.append(d2[attr])\n",
    "    lst1[2] = str(lst1[2][0]) + \", \" + str(lst1[2][1])\n",
    "    lst2[2] = str(lst2[2][0]) + \", \" + str(lst2[2][1])\n",
    "    lst1.append(y_test[cnt])\n",
    "    if pred[cnt] == 1: lst2.append(True)\n",
    "    else: lst2.append(False)\n",
    "    result.append(lst1)\n",
    "    result.append(lst2)\n",
    "    result.append([\"\" for _ in range(10)])\n",
    "dfResult = pd.DataFrame(result, columns=[\"cluster\"]+cols[:-1]+[\"real & pred\"])\n",
    "dfResult.to_csv(\"test_result.csv\", encoding=\"utf-8\")"
   ]
  },
  {
   "cell_type": "code",
   "execution_count": 5,
   "metadata": {},
   "outputs": [],
   "source": [
    "import json\n",
    "\n",
    "dataName1 = \"Mafengwo\"\n",
    "dataName2 = \"Tripadvisor\"\n",
    "with open(\"./user_data/%s_addr.json\"%dataName1, \"r\", encoding=\"utf-8\") as f:\n",
    "    data1 = json.load(f)\n",
    "with open(\"./user_data/%s_addr.json\"%dataName2, \"r\", encoding=\"utf-8\") as f:\n",
    "    data2 = json.load(f)\n",
    "\n",
    "def combineEnt(d1, d2, label, prob):\n",
    "    rnt = {\"id\": \"%s-%s\"%(d1[\"id\"], d2[\"id\"])}\n",
    "    rnt[\"label\"] = label\n",
    "    rnt[\"Probability\"] = prob\n",
    "    for attr in list(d1.keys())[1:]:\n",
    "        rnt[attr] = [d1[attr], d2[attr]]\n",
    "    return rnt\n",
    "\n",
    "dfTest = pd.read_csv(\"./user_data/data.csv\")\n",
    "test = dfTest[cols[1:-1]].values\n",
    "pred = clf.predict(test)\n",
    "predProb = clf.predict_proba(test).tolist()\n",
    "idList = list(dfTest[\"id\"])\n",
    "\n",
    "result = []\n",
    "for i in range(len(idList)):\n",
    "    idx = idList[i].split(\"-\")\n",
    "    idx1, idx2 = int(idx[0][1:]), int(idx[1][1:])\n",
    "    d1 = data1[idx1]; d2 = data2[idx2]\n",
    "    if pred[i] == True:\n",
    "        result = [combineEnt(d1, d2, True, predProb[i])] + result\n",
    "    else:\n",
    "        result.append(combineEnt(d1, d2, False, predProb[i]))\n",
    "\n",
    "result = sorted(result, key=lambda x:x[\"Probability\"][1], reverse=True)\n",
    "\n",
    "with open(\"./result.json\", \"w\", encoding=\"utf-8\") as f:\n",
    "    json.dump(result, f, ensure_ascii=False, indent=2)\n"
   ]
  },
  {
   "cell_type": "code",
   "execution_count": 11,
   "metadata": {},
   "outputs": [
    {
     "name": "stdout",
     "output_type": "stream",
     "text": [
      "56\n"
     ]
    }
   ],
   "source": [
    "print(pred.tolist().count(1))"
   ]
  }
 ],
 "metadata": {
  "kernelspec": {
   "display_name": "Python 3.10.12 ('base': conda)",
   "language": "python",
   "name": "python3"
  },
  "language_info": {
   "codemirror_mode": {
    "name": "ipython",
    "version": 3
   },
   "file_extension": ".py",
   "mimetype": "text/x-python",
   "name": "python",
   "nbconvert_exporter": "python",
   "pygments_lexer": "ipython3",
   "version": "3.10.12"
  },
  "orig_nbformat": 4,
  "vscode": {
   "interpreter": {
    "hash": "3e8f95b9510f32b9cde8cca11ac739448e236da4e8c1197f2e248ca6ab198849"
   }
  }
 },
 "nbformat": 4,
 "nbformat_minor": 2
}
